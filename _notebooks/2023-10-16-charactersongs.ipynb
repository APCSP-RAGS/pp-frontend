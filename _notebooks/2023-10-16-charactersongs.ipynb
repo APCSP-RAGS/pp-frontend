{
 "cells": [
  {
   "cell_type": "markdown",
   "metadata": {},
   "source": [
    "---\n",
    "title: Songs for Breaking Bad Characters\n",
    "layout: base\n",
    "description: Uses GET requests to retrieve data from a custom API using SQLite and served on our Flask backend.\n",
    "permalink: /data/songs\n",
    "tags: [javascript, fetch, dom, getElementID, appendChild]\n",
    "---"
   ]
  },
  {
   "cell_type": "markdown",
   "metadata": {},
   "source": [
    "<html>\n",
    "<head>\n",
    "    <title>JSON Table</title>\n",
    "</head>\n",
    "<body>\n",
    "    <h1>JSON Data Table</h1>\n",
    "    <table id=\"data-table\">\n",
    "        <thead>\n",
    "            <tr>\n",
    "                <th>Character</th>\n",
    "                <th>Song Name</th>\n",
    "                <th>Artist</th>\n",
    "                <th>Genre</th>\n",
    "            </tr>\n",
    "        </thead>\n",
    "        <tbody>\n",
    "            <!-- Table data will be inserted here -->\n",
    "        </tbody>\n",
    "    </table>\n",
    "\n",
    "    <script>\n",
    "        // Function to make a GET request and populate the table\n",
    "        function fetchData() {\n",
    "            fetch('awsrags-flask.stu.nighthawkcodingsociety.com/api/song')\n",
    "                .then(response => response.json())\n",
    "                .then(data => {\n",
    "                    const table = document.getElementById('data-table').getElementsByTagName('tbody')[0];\n",
    "\n",
    "                    data.forEach(item => {\n",
    "                        const row = table.insertRow();\n",
    "                        const cell1 = row.insertCell(0);\n",
    "                        const cell2 = row.insertCell(1);\n",
    "                        const cell3 = row.insertCell(2);\n",
    "                        const cell4 = row.insertCell(3);\n",
    "\n",
    "                        cell1.innerHTML = item.character;\n",
    "                        cell2.innerHTML = item.song_name;\n",
    "                        cell3.innerHTML = item.artist;\n",
    "                        cell4.innerHTML = item.genre;\n",
    "                    });\n",
    "                })\n",
    "                .catch(error => console.error('Error:', error));\n",
    "        }\n",
    "\n",
    "        // Call the fetchData function when the page loads\n",
    "        window.onload = fetchData;\n",
    "    </script>\n",
    "</body>\n",
    "</html>\n"
   ]
  }
 ],
 "metadata": {
  "kernelspec": {
   "display_name": "Python 3",
   "language": "python",
   "name": "python3"
  },
  "language_info": {
   "codemirror_mode": {
    "name": "ipython",
    "version": 3
   },
   "file_extension": ".py",
   "mimetype": "text/x-python",
   "name": "python",
   "nbconvert_exporter": "python",
   "pygments_lexer": "ipython3",
   "version": "3.10.12"
  },
  "orig_nbformat": 4
 },
 "nbformat": 4,
 "nbformat_minor": 2
}
